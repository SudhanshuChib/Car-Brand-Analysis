{
 "cells": [
  {
   "cell_type": "markdown",
   "metadata": {},
   "source": [
    "# Data Analysis Script"
   ]
  },
  {
   "cell_type": "code",
   "execution_count": 1,
   "metadata": {
    "collapsed": true
   },
   "outputs": [],
   "source": [
    "import pandas as pd\n",
    "import seaborn as sns\n",
    "import numpy as np\n",
    "import re\n",
    "import matplotlib.pyplot as plt\n",
    "%matplotlib inline"
   ]
  },
  {
   "cell_type": "code",
   "execution_count": 2,
   "metadata": {
    "collapsed": true
   },
   "outputs": [],
   "source": [
    "#Importing Data\n",
    "data = pd.read_csv(\"C:\\\\Users\\\\sudhanshu\\\\Desktop\\\\Springboard\\\\Used Cars Dataset\\\\eBayRevised1.csv\", encoding=\"latin-1\")"
   ]
  },
  {
   "cell_type": "code",
   "execution_count": 3,
   "metadata": {
    "collapsed": false,
    "scrolled": true
   },
   "outputs": [
    {
     "data": {
      "text/html": [
       "<div>\n",
       "<table border=\"1\" class=\"dataframe\">\n",
       "  <thead>\n",
       "    <tr style=\"text-align: right;\">\n",
       "      <th></th>\n",
       "      <th>Mileage</th>\n",
       "      <th>Name</th>\n",
       "      <th>Price</th>\n",
       "      <th>Year</th>\n",
       "    </tr>\n",
       "  </thead>\n",
       "  <tbody>\n",
       "    <tr>\n",
       "      <th>0</th>\n",
       "      <td>151000</td>\n",
       "      <td>2004 Acura TL Base</td>\n",
       "      <td>3700</td>\n",
       "      <td>2004</td>\n",
       "    </tr>\n",
       "    <tr>\n",
       "      <th>1</th>\n",
       "      <td>139134</td>\n",
       "      <td>1994 Acura Legend L Sedan 4-Door</td>\n",
       "      <td>2750</td>\n",
       "      <td>1994</td>\n",
       "    </tr>\n",
       "    <tr>\n",
       "      <th>2</th>\n",
       "      <td>70581</td>\n",
       "      <td>2005 Acura RL Base Sedan 4-Door</td>\n",
       "      <td>10995</td>\n",
       "      <td>2005</td>\n",
       "    </tr>\n",
       "    <tr>\n",
       "      <th>3</th>\n",
       "      <td>5000</td>\n",
       "      <td>1991 Acura NSX --</td>\n",
       "      <td>21900</td>\n",
       "      <td>1991</td>\n",
       "    </tr>\n",
       "    <tr>\n",
       "      <th>4</th>\n",
       "      <td>53180</td>\n",
       "      <td>2003 Acura NSX T</td>\n",
       "      <td>89000</td>\n",
       "      <td>2003</td>\n",
       "    </tr>\n",
       "  </tbody>\n",
       "</table>\n",
       "</div>"
      ],
      "text/plain": [
       "  Mileage                              Name  Price  Year\n",
       "0  151000                2004 Acura TL Base   3700  2004\n",
       "1  139134  1994 Acura Legend L Sedan 4-Door   2750  1994\n",
       "2   70581   2005 Acura RL Base Sedan 4-Door  10995  2005\n",
       "3    5000                 1991 Acura NSX --  21900  1991\n",
       "4   53180                  2003 Acura NSX T  89000  2003"
      ]
     },
     "execution_count": 3,
     "metadata": {},
     "output_type": "execute_result"
    }
   ],
   "source": [
    "#Exploring Data\n",
    "data.head()"
   ]
  },
  {
   "cell_type": "code",
   "execution_count": 4,
   "metadata": {
    "collapsed": false
   },
   "outputs": [
    {
     "data": {
      "text/html": [
       "<div>\n",
       "<table border=\"1\" class=\"dataframe\">\n",
       "  <thead>\n",
       "    <tr style=\"text-align: right;\">\n",
       "      <th></th>\n",
       "      <th>Mileage</th>\n",
       "      <th>Name</th>\n",
       "      <th>Price</th>\n",
       "      <th>Year</th>\n",
       "    </tr>\n",
       "  </thead>\n",
       "  <tbody>\n",
       "    <tr>\n",
       "      <th>237181</th>\n",
       "      <td>NotFound</td>\n",
       "      <td>Replica/Kit Makes</td>\n",
       "      <td>65000</td>\n",
       "      <td>NotFound</td>\n",
       "    </tr>\n",
       "    <tr>\n",
       "      <th>237182</th>\n",
       "      <td>11724</td>\n",
       "      <td>2015 Replica/Kit Makes SVE TR1ke</td>\n",
       "      <td>32750</td>\n",
       "      <td>NotFound</td>\n",
       "    </tr>\n",
       "    <tr>\n",
       "      <th>237183</th>\n",
       "      <td>10714</td>\n",
       "      <td>1957 Replica/Kit Makes Speedster</td>\n",
       "      <td>12986</td>\n",
       "      <td>1957</td>\n",
       "    </tr>\n",
       "    <tr>\n",
       "      <th>237184</th>\n",
       "      <td>4246</td>\n",
       "      <td>2015 Replica/Kit Makes GTM</td>\n",
       "      <td>12500</td>\n",
       "      <td>2015</td>\n",
       "    </tr>\n",
       "    <tr>\n",
       "      <th>237185</th>\n",
       "      <td>500</td>\n",
       "      <td>2008 Replica/Kit Makes GTM</td>\n",
       "      <td>25000</td>\n",
       "      <td>2008</td>\n",
       "    </tr>\n",
       "  </tbody>\n",
       "</table>\n",
       "</div>"
      ],
      "text/plain": [
       "         Mileage                              Name  Price      Year\n",
       "237181  NotFound                 Replica/Kit Makes  65000  NotFound\n",
       "237182     11724  2015 Replica/Kit Makes SVE TR1ke  32750  NotFound\n",
       "237183     10714  1957 Replica/Kit Makes Speedster  12986      1957\n",
       "237184      4246        2015 Replica/Kit Makes GTM  12500      2015\n",
       "237185       500        2008 Replica/Kit Makes GTM  25000      2008"
      ]
     },
     "execution_count": 4,
     "metadata": {},
     "output_type": "execute_result"
    }
   ],
   "source": [
    "data.tail()"
   ]
  },
  {
   "cell_type": "markdown",
   "metadata": {},
   "source": [
    "Cleaning text data by removing Newline, Tabs and Carriage Return characters "
   ]
  },
  {
   "cell_type": "code",
   "execution_count": 5,
   "metadata": {
    "collapsed": true
   },
   "outputs": [],
   "source": [
    "data[\"Name\"] = data[\"Name\"].map(lambda x: x.replace(\"\\r\",\"\"))\n",
    "data[\"Name\"] = data[\"Name\"].map(lambda x: x.replace(\"\\n\",\"\"))\n",
    "data[\"Name\"] = data[\"Name\"].map(lambda x: x.replace(\"\\t\",\"\"))"
   ]
  },
  {
   "cell_type": "markdown",
   "metadata": {},
   "source": [
    "Checking data types"
   ]
  },
  {
   "cell_type": "code",
   "execution_count": 6,
   "metadata": {
    "collapsed": false
   },
   "outputs": [
    {
     "data": {
      "text/plain": [
       "Mileage    object\n",
       "Name       object\n",
       "Price      object\n",
       "Year       object\n",
       "dtype: object"
      ]
     },
     "execution_count": 6,
     "metadata": {},
     "output_type": "execute_result"
    }
   ],
   "source": [
    "data.dtypes"
   ]
  },
  {
   "cell_type": "markdown",
   "metadata": {},
   "source": [
    "As \"NotFound\" was used as imputation value where ever scaping script was not able to find a valid value the below mentioned step removes those lines from the data set"
   ]
  },
  {
   "cell_type": "code",
   "execution_count": 7,
   "metadata": {
    "collapsed": true
   },
   "outputs": [],
   "source": [
    "CleanedData=data[data[\"Mileage\"] != \"NotFound\"]\n",
    "CleanedData=CleanedData[CleanedData[\"Name\"] != \"NotFound\"]\n",
    "CleanedData=CleanedData[CleanedData[\"Price\"] != \"NotFound\"]\n",
    "CleanedData=CleanedData[CleanedData[\"Year\"] != \"NotFound\"]"
   ]
  },
  {
   "cell_type": "code",
   "execution_count": 8,
   "metadata": {
    "collapsed": false
   },
   "outputs": [
    {
     "data": {
      "text/html": [
       "<div>\n",
       "<table border=\"1\" class=\"dataframe\">\n",
       "  <thead>\n",
       "    <tr style=\"text-align: right;\">\n",
       "      <th></th>\n",
       "      <th>Mileage</th>\n",
       "      <th>Name</th>\n",
       "      <th>Price</th>\n",
       "      <th>Year</th>\n",
       "    </tr>\n",
       "  </thead>\n",
       "  <tbody>\n",
       "    <tr>\n",
       "      <th>237179</th>\n",
       "      <td>219</td>\n",
       "      <td>1969 Replica/Kit Makes SSK Replica Kit Car Gaz...</td>\n",
       "      <td>17611</td>\n",
       "      <td>1969</td>\n",
       "    </tr>\n",
       "    <tr>\n",
       "      <th>237180</th>\n",
       "      <td>0</td>\n",
       "      <td>1979 Replica/Kit Makes</td>\n",
       "      <td>18475.95</td>\n",
       "      <td>1979</td>\n",
       "    </tr>\n",
       "    <tr>\n",
       "      <th>237183</th>\n",
       "      <td>10714</td>\n",
       "      <td>1957 Replica/Kit Makes Speedster</td>\n",
       "      <td>12986</td>\n",
       "      <td>1957</td>\n",
       "    </tr>\n",
       "    <tr>\n",
       "      <th>237184</th>\n",
       "      <td>4246</td>\n",
       "      <td>2015 Replica/Kit Makes GTM</td>\n",
       "      <td>12500</td>\n",
       "      <td>2015</td>\n",
       "    </tr>\n",
       "    <tr>\n",
       "      <th>237185</th>\n",
       "      <td>500</td>\n",
       "      <td>2008 Replica/Kit Makes GTM</td>\n",
       "      <td>25000</td>\n",
       "      <td>2008</td>\n",
       "    </tr>\n",
       "  </tbody>\n",
       "</table>\n",
       "</div>"
      ],
      "text/plain": [
       "       Mileage                                               Name     Price  \\\n",
       "237179     219  1969 Replica/Kit Makes SSK Replica Kit Car Gaz...     17611   \n",
       "237180       0                             1979 Replica/Kit Makes  18475.95   \n",
       "237183   10714                   1957 Replica/Kit Makes Speedster     12986   \n",
       "237184    4246                         2015 Replica/Kit Makes GTM     12500   \n",
       "237185     500                         2008 Replica/Kit Makes GTM     25000   \n",
       "\n",
       "        Year  \n",
       "237179  1969  \n",
       "237180  1979  \n",
       "237183  1957  \n",
       "237184  2015  \n",
       "237185  2008  "
      ]
     },
     "execution_count": 8,
     "metadata": {},
     "output_type": "execute_result"
    }
   ],
   "source": [
    "CleanedData.tail()"
   ]
  },
  {
   "cell_type": "markdown",
   "metadata": {},
   "source": [
    "Converting data columns to valid data types"
   ]
  },
  {
   "cell_type": "code",
   "execution_count": 9,
   "metadata": {
    "collapsed": false
   },
   "outputs": [],
   "source": [
    "CleanedData[\"Mileage\"]=CleanedData[\"Mileage\"].astype(int)\n",
    "CleanedData[\"Year\"]=CleanedData[\"Year\"].astype(int)\n",
    "CleanedData=CleanedData[CleanedData.Price.apply(lambda x: x.isnumeric())]\n",
    "CleanedData[\"Price\"]=CleanedData[\"Price\"].astype(int)"
   ]
  },
  {
   "cell_type": "code",
   "execution_count": 10,
   "metadata": {
    "collapsed": false
   },
   "outputs": [
    {
     "data": {
      "text/plain": [
       "Mileage     int32\n",
       "Name       object\n",
       "Price       int32\n",
       "Year        int32\n",
       "dtype: object"
      ]
     },
     "execution_count": 10,
     "metadata": {},
     "output_type": "execute_result"
    }
   ],
   "source": [
    "CleanedData.dtypes"
   ]
  },
  {
   "cell_type": "markdown",
   "metadata": {},
   "source": [
    "Identifying make of the car from \"Name\" column"
   ]
  },
  {
   "cell_type": "code",
   "execution_count": 11,
   "metadata": {
    "collapsed": true
   },
   "outputs": [],
   "source": [
    "#Setting make of the car\n",
    "CleanedData[\"Make\"] = CleanedData[\"Name\"].map(lambda x: x.split(\" \")[1])\n",
    "CleanedData[\"Make\"] = CleanedData[\"Make\"].map(lambda x: x.upper())"
   ]
  },
  {
   "cell_type": "code",
   "execution_count": 12,
   "metadata": {
    "collapsed": false
   },
   "outputs": [],
   "source": [
    "#Setting Model of the car\n",
    "\n",
    "def CarModel(STRING):\n",
    "    try:\n",
    "        String=STRING.split(\" \")[2]\n",
    "        return String\n",
    "    except:\n",
    "        return \"NoModelName\"\n",
    "    \n",
    "CleanedData[\"Model\"] = CleanedData[\"Name\"].map(lambda x: CarModel(x))\n",
    "CleanedData[\"Model\"] = CleanedData[\"Model\"].map(lambda x: x.upper())"
   ]
  },
  {
   "cell_type": "markdown",
   "metadata": {},
   "source": [
    "Identifying number of years a listed car has been on road (compared with 2017)"
   ]
  },
  {
   "cell_type": "code",
   "execution_count": 13,
   "metadata": {
    "collapsed": true
   },
   "outputs": [],
   "source": [
    "#Number of years On Road\n",
    "CleanedData[\"OnRoadYrs\"] = CleanedData[\"Year\"].map(lambda x: 2017-x)"
   ]
  },
  {
   "cell_type": "markdown",
   "metadata": {},
   "source": [
    "Cleaning data as:"
   ]
  },
  {
   "cell_type": "markdown",
   "metadata": {},
   "source": [
    "Removing car listings where \"On Road Year\" < 0, Cars listed as 2018 or beyond(probable misprint). "
   ]
  },
  {
   "cell_type": "markdown",
   "metadata": {},
   "source": [
    "Removing car listings where \"Price\" > 200,000, Outliers."
   ]
  },
  {
   "cell_type": "markdown",
   "metadata": {},
   "source": [
    "Removing car listings where \"Mileage\" > 500,000, Outliers."
   ]
  },
  {
   "cell_type": "code",
   "execution_count": 14,
   "metadata": {
    "collapsed": true
   },
   "outputs": [],
   "source": [
    "CleanedData=CleanedData[CleanedData[\"OnRoadYrs\"] >= 0]\n",
    "CleanedData=CleanedData[CleanedData[\"Price\"] <= 2000000]\n",
    "CleanedData=CleanedData[CleanedData[\"Mileage\"] <= 500000]"
   ]
  },
  {
   "cell_type": "code",
   "execution_count": 15,
   "metadata": {
    "collapsed": false
   },
   "outputs": [
    {
     "data": {
      "text/html": [
       "<div>\n",
       "<table border=\"1\" class=\"dataframe\">\n",
       "  <thead>\n",
       "    <tr style=\"text-align: right;\">\n",
       "      <th></th>\n",
       "      <th>Mileage</th>\n",
       "      <th>Name</th>\n",
       "      <th>Price</th>\n",
       "      <th>Year</th>\n",
       "      <th>Make</th>\n",
       "      <th>Model</th>\n",
       "      <th>OnRoadYrs</th>\n",
       "    </tr>\n",
       "  </thead>\n",
       "  <tbody>\n",
       "    <tr>\n",
       "      <th>0</th>\n",
       "      <td>151000</td>\n",
       "      <td>2004 Acura TL Base</td>\n",
       "      <td>3700</td>\n",
       "      <td>2004</td>\n",
       "      <td>ACURA</td>\n",
       "      <td>TL</td>\n",
       "      <td>13</td>\n",
       "    </tr>\n",
       "    <tr>\n",
       "      <th>1</th>\n",
       "      <td>139134</td>\n",
       "      <td>1994 Acura Legend L Sedan 4-Door</td>\n",
       "      <td>2750</td>\n",
       "      <td>1994</td>\n",
       "      <td>ACURA</td>\n",
       "      <td>LEGEND</td>\n",
       "      <td>23</td>\n",
       "    </tr>\n",
       "    <tr>\n",
       "      <th>2</th>\n",
       "      <td>70581</td>\n",
       "      <td>2005 Acura RL Base Sedan 4-Door</td>\n",
       "      <td>10995</td>\n",
       "      <td>2005</td>\n",
       "      <td>ACURA</td>\n",
       "      <td>RL</td>\n",
       "      <td>12</td>\n",
       "    </tr>\n",
       "    <tr>\n",
       "      <th>3</th>\n",
       "      <td>5000</td>\n",
       "      <td>1991 Acura NSX --</td>\n",
       "      <td>21900</td>\n",
       "      <td>1991</td>\n",
       "      <td>ACURA</td>\n",
       "      <td>NSX</td>\n",
       "      <td>26</td>\n",
       "    </tr>\n",
       "    <tr>\n",
       "      <th>4</th>\n",
       "      <td>53180</td>\n",
       "      <td>2003 Acura NSX T</td>\n",
       "      <td>89000</td>\n",
       "      <td>2003</td>\n",
       "      <td>ACURA</td>\n",
       "      <td>NSX</td>\n",
       "      <td>14</td>\n",
       "    </tr>\n",
       "  </tbody>\n",
       "</table>\n",
       "</div>"
      ],
      "text/plain": [
       "   Mileage                              Name  Price  Year   Make   Model  \\\n",
       "0   151000                2004 Acura TL Base   3700  2004  ACURA      TL   \n",
       "1   139134  1994 Acura Legend L Sedan 4-Door   2750  1994  ACURA  LEGEND   \n",
       "2    70581   2005 Acura RL Base Sedan 4-Door  10995  2005  ACURA      RL   \n",
       "3     5000                 1991 Acura NSX --  21900  1991  ACURA     NSX   \n",
       "4    53180                  2003 Acura NSX T  89000  2003  ACURA     NSX   \n",
       "\n",
       "   OnRoadYrs  \n",
       "0         13  \n",
       "1         23  \n",
       "2         12  \n",
       "3         26  \n",
       "4         14  "
      ]
     },
     "execution_count": 15,
     "metadata": {},
     "output_type": "execute_result"
    }
   ],
   "source": [
    "CleanedData.head()"
   ]
  },
  {
   "cell_type": "code",
   "execution_count": 16,
   "metadata": {
    "collapsed": false
   },
   "outputs": [
    {
     "data": {
      "text/html": [
       "<div>\n",
       "<table border=\"1\" class=\"dataframe\">\n",
       "  <thead>\n",
       "    <tr style=\"text-align: right;\">\n",
       "      <th></th>\n",
       "      <th>Mileage</th>\n",
       "      <th>Price</th>\n",
       "      <th>Year</th>\n",
       "      <th>OnRoadYrs</th>\n",
       "    </tr>\n",
       "  </thead>\n",
       "  <tbody>\n",
       "    <tr>\n",
       "      <th>count</th>\n",
       "      <td>233827.000000</td>\n",
       "      <td>2.338270e+05</td>\n",
       "      <td>233827.000000</td>\n",
       "      <td>233827.000000</td>\n",
       "    </tr>\n",
       "    <tr>\n",
       "      <th>mean</th>\n",
       "      <td>46217.483242</td>\n",
       "      <td>3.876203e+04</td>\n",
       "      <td>2000.962057</td>\n",
       "      <td>16.037943</td>\n",
       "    </tr>\n",
       "    <tr>\n",
       "      <th>std</th>\n",
       "      <td>43784.238281</td>\n",
       "      <td>6.442216e+04</td>\n",
       "      <td>21.970772</td>\n",
       "      <td>21.929721</td>\n",
       "    </tr>\n",
       "    <tr>\n",
       "      <th>min</th>\n",
       "      <td>0.000000</td>\n",
       "      <td>1.000000e+00</td>\n",
       "      <td>1878.000000</td>\n",
       "      <td>0.000000</td>\n",
       "    </tr>\n",
       "    <tr>\n",
       "      <th>25%</th>\n",
       "      <td>14450.000000</td>\n",
       "      <td>1.299000e+04</td>\n",
       "      <td>2000.000000</td>\n",
       "      <td>2.000000</td>\n",
       "    </tr>\n",
       "    <tr>\n",
       "      <th>50%</th>\n",
       "      <td>36007.000000</td>\n",
       "      <td>2.359500e+04</td>\n",
       "      <td>2012.000000</td>\n",
       "      <td>5.000000</td>\n",
       "    </tr>\n",
       "    <tr>\n",
       "      <th>75%</th>\n",
       "      <td>63221.000000</td>\n",
       "      <td>3.899900e+04</td>\n",
       "      <td>2015.000000</td>\n",
       "      <td>17.000000</td>\n",
       "    </tr>\n",
       "    <tr>\n",
       "      <th>max</th>\n",
       "      <td>500000.000000</td>\n",
       "      <td>1.999995e+06</td>\n",
       "      <td>2017.000000</td>\n",
       "      <td>139.000000</td>\n",
       "    </tr>\n",
       "  </tbody>\n",
       "</table>\n",
       "</div>"
      ],
      "text/plain": [
       "             Mileage         Price           Year      OnRoadYrs\n",
       "count  233827.000000  2.338270e+05  233827.000000  233827.000000\n",
       "mean    46217.483242  3.876203e+04    2000.962057      16.037943\n",
       "std     43784.238281  6.442216e+04      21.970772      21.929721\n",
       "min         0.000000  1.000000e+00    1878.000000       0.000000\n",
       "25%     14450.000000  1.299000e+04    2000.000000       2.000000\n",
       "50%     36007.000000  2.359500e+04    2012.000000       5.000000\n",
       "75%     63221.000000  3.899900e+04    2015.000000      17.000000\n",
       "max    500000.000000  1.999995e+06    2017.000000     139.000000"
      ]
     },
     "execution_count": 16,
     "metadata": {},
     "output_type": "execute_result"
    }
   ],
   "source": [
    "CleanedData.describe()"
   ]
  },
  {
   "cell_type": "markdown",
   "metadata": {},
   "source": [
    "Average car in the data set is priced at $38,762 and has run 46,217 miles"
   ]
  },
  {
   "cell_type": "code",
   "execution_count": 17,
   "metadata": {
    "collapsed": false
   },
   "outputs": [
    {
     "data": {
      "text/plain": [
       "233827"
      ]
     },
     "execution_count": 17,
     "metadata": {},
     "output_type": "execute_result"
    }
   ],
   "source": [
    "#Number of cars in the dataset\n",
    "len(CleanedData)"
   ]
  },
  {
   "cell_type": "code",
   "execution_count": 18,
   "metadata": {
    "collapsed": false
   },
   "outputs": [
    {
     "name": "stderr",
     "output_type": "stream",
     "text": [
      "C:\\Users\\sudhanshu\\Anaconda3\\lib\\site-packages\\statsmodels\\nonparametric\\kdetools.py:20: VisibleDeprecationWarning: using a non-integer number instead of an integer will result in an error in the future\n",
      "  y = X[:m/2+1] + np.r_[0,X[m/2+1:],0]*1j\n"
     ]
    },
    {
     "data": {
      "image/png": "[encoded data removed]",
      "text/plain": [
       "<matplotlib.figure.Figure at 0xe57f4a518>"
      ]
     },
     "metadata": {},
     "output_type": "display_data"
    }
   ],
   "source": [
    "ax = sns.distplot(CleanedData[\"Price\"])\n",
    "ax.set(xlabel='Year')\n",
    "ax.set_title(\"Car listings v.s. Price\")\n",
    "plt.show()"
   ]
  },
  {
   "cell_type": "markdown",
   "metadata": {},
   "source": [
    "Breakup of car listings by year"
   ]
  },
  {
   "cell_type": "code",
   "execution_count": 19,
   "metadata": {
    "collapsed": false
   },
   "outputs": [
    {
     "name": "stderr",
     "output_type": "stream",
     "text": [
      "C:\\Users\\sudhanshu\\Anaconda3\\lib\\site-packages\\statsmodels\\nonparametric\\kdetools.py:20: VisibleDeprecationWarning: using a non-integer number instead of an integer will result in an error in the future\n",
      "  y = X[:m/2+1] + np.r_[0,X[m/2+1:],0]*1j\n"
     ]
    },
    {
     "data": {
      "image/png": "[encoded data removed]",
      "text/plain": [
       "<matplotlib.figure.Figure at 0xe53a0a5c0>"
      ]
     },
     "metadata": {},
     "output_type": "display_data"
    }
   ],
   "source": [
    "ax = sns.distplot(CleanedData[\"Year\"])\n",
    "ax.set(xlabel='Year')\n",
    "ax.set_title(\"Car listings v.s. Year of Manufacture\")\n",
    "plt.show()"
   ]
  },
  {
   "cell_type": "markdown",
   "metadata": {},
   "source": [
    "Binning Price, Mileage and Year on road.\n"
   ]
  },
  {
   "cell_type": "markdown",
   "metadata": {},
   "source": [
    "Cutoff determined by plotting histogram on tableau"
   ]
  },
  {
   "cell_type": "markdown",
   "metadata": {},
   "source": [
    "https://public.tableau.com/profile/sudhanshu.chib8525#!/vizhome/UsedCars_2/Dashboard1?publish=yes"
   ]
  },
  {
   "cell_type": "code",
   "execution_count": 20,
   "metadata": {
    "collapsed": true
   },
   "outputs": [],
   "source": [
    "#Binning or Categorising Variables:\n",
    "\n",
    "def binning(col, cut_points, labels=None):\n",
    "  #Define min and max values:\n",
    "  minval = col.min()\n",
    "  maxval = col.max()\n",
    "\n",
    "  #create list by adding min and max to cut_points\n",
    "  break_points = [minval] + cut_points + [maxval]\n",
    "\n",
    "  #if no labels provided, use default labels 0 ... (n-1)\n",
    "  if not labels:\n",
    "    labels = range(len(cut_points)+1)\n",
    "\n",
    "  #Binning using cut function of pandas\n",
    "  colBin = pd.cut(col,bins=break_points,labels=labels,include_lowest=True)\n",
    "  return colBin\n",
    "\n",
    "#Binning On Road Yrs\n",
    "cut_points = [2,5,10,15,20,50]\n",
    "labels = [\"LessThan2\",\"2To5\",\"5To10\",\"10To15\",\"15To20\",\"20To50\",\"Heritage\"]\n",
    "CleanedData[\"CatYear\"] = binning(CleanedData[\"OnRoadYrs\"], cut_points, labels)\n",
    "\n",
    "#Binning Mileage\n",
    "cut_points = [5000,10000,20000,30000,50000,75000,100000,150000,300000]\n",
    "labels = [\"LessThan5K\",\"5To10K\",\"10To20K\",\"20To30K\",\"30To50K\",\"50To75K\",\"75To100K\",\"100To150K\",\"150To300K\",\"RunDown\"]\n",
    "CleanedData[\"CatMileage\"] = binning(CleanedData[\"Mileage\"], cut_points, labels)\n",
    "\n",
    "#Binning cars as Contemporary and Collectable\n",
    "cut_points = [15]\n",
    "labels = [\"Contemporary\",\"Collectable\"]\n",
    "CleanedData[\"CarType\"] = binning(CleanedData[\"OnRoadYrs\"], cut_points, labels)\n"
   ]
  },
  {
   "cell_type": "code",
   "execution_count": 21,
   "metadata": {
    "collapsed": false
   },
   "outputs": [],
   "source": [
    "#Removing unwanted Brands\n",
    "CarBrands=[\"ACURA\",\"ALFA\",\"AMC\",\"ASTON\",\"AUDI\",\"AUSTIN\",\"BENTLEY\",\"BMW\",\"BUICK\",\"CADILLAC\",\"CHEVROLET\",\"CHRYSLER\",\"DAIHATSU\",\"DATSUN\",\n",
    "           \"DELOREAN\",\"DESOTO\",\"DODGE\",\"EAGLE\",\"FERRARI\",\"FIAT\",\"FISKER\",\"FORD\",\"GENESIS\",\"GEO\",\"GMC\",\"HONDA\",\"HUDSON\",\"HUMMER\",\"HYUNDAI\",\n",
    "           \"INFINITI\",\"INTERNATIONAL\",\"ISUZU\",\"JAGUAR\",\"JEEP\",\"KIA\",\"LAMBORGHINI\",\"LAND\",\"LEXUS\",\"LINCOLN\",\"LOTUS\",\"MASERATI\",\"MAYBACH\",\n",
    "           \"MAZDA\",\"MCLAREN\",\"MERCEDES-BENZ\",\"MERCURY\",\"MG\",\"MINI\",\"MITSUBISHI\",\"NASH\",\"NISSAN\",\"OLDSMOBILE\",\"PACKARD\",\"PLYMOUTH\",\n",
    "           \"PONTIAC\",\"PORSCHE\",\"RAM\",\"RENAULT\",\"ROLLS-ROYCE\",\"SAAB\",\"SATURN\",\"SCION\",\"SHELBY\",\"SMART\",\"STUDEBAKER\",\"SUBARU\",\"SUNBEAM\",\n",
    "           \"SUZUKI\",\"TESLA\",\"TOYOTA\",\"TRIUMPH\",\"VOLVO\",\"VOLKSWAGEN\"]\n"
   ]
  },
  {
   "cell_type": "code",
   "execution_count": 22,
   "metadata": {
    "collapsed": false
   },
   "outputs": [],
   "source": [
    "CleanedData=CleanedData[CleanedData[\"Make\"].isin(CarBrands)]\n"
   ]
  },
  {
   "cell_type": "code",
   "execution_count": 23,
   "metadata": {
    "collapsed": false
   },
   "outputs": [
    {
     "data": {
      "text/plain": [
       "223517"
      ]
     },
     "execution_count": 23,
     "metadata": {},
     "output_type": "execute_result"
    }
   ],
   "source": [
    "len(CleanedData)"
   ]
  },
  {
   "cell_type": "code",
   "execution_count": 24,
   "metadata": {
    "collapsed": false
   },
   "outputs": [],
   "source": [
    "BrandMedPrice=CleanedData.groupby([\"Make\"], as_index=False)[\"Price\"].median().sort_values(by=\"Price\", ascending=False)\n",
    "BrandMedPrice.columns = [\"Brand\", \"MedianPrice\"]\n"
   ]
  },
  {
   "cell_type": "code",
   "execution_count": 25,
   "metadata": {
    "collapsed": false
   },
   "outputs": [
    {
     "data": {
      "text/plain": [
       "Mileage          int32\n",
       "Name            object\n",
       "Price            int32\n",
       "Year             int32\n",
       "Make            object\n",
       "Model           object\n",
       "OnRoadYrs        int64\n",
       "CatYear       category\n",
       "CatMileage    category\n",
       "CarType       category\n",
       "dtype: object"
      ]
     },
     "execution_count": 25,
     "metadata": {},
     "output_type": "execute_result"
    }
   ],
   "source": [
    "CleanedData.dtypes"
   ]
  },
  {
   "cell_type": "code",
   "execution_count": 26,
   "metadata": {
    "collapsed": true
   },
   "outputs": [],
   "source": [
    "CleanedData.to_csv('C:\\\\Users\\\\sudhanshu\\\\Desktop\\\\Springboard\\\\Used Cars Dataset\\\\CleanedDataRevised.csv', index=True, header=True)"
   ]
  },
  {
   "cell_type": "markdown",
   "metadata": {},
   "source": [
    "Attempt to find benchmark values for depreciation with mileage and number of years on road.\n",
    "\n",
    "Approach: Regress price on mileage and price on number of years on road for all the the population and then individually for each car brand.\n",
    "\n",
    "When Price is regressed on mileage and # of years on road for the population the cofficient of regression cofficient will give us benchmarks for depreciation (ideally we should get negative cofficients).\n",
    "\n",
    "Indvidual regression will give brand specific numbers which can then be compared with population benchmarks on a 2x2 grid to identify brands that outperform benchmarks (depreciate less than the average population)\n"
   ]
  },
  {
   "cell_type": "code",
   "execution_count": 27,
   "metadata": {
    "collapsed": false
   },
   "outputs": [],
   "source": [
    "from sklearn.linear_model import LinearRegression\n",
    "import numpy as np"
   ]
  },
  {
   "cell_type": "markdown",
   "metadata": {},
   "source": [
    "Calculating impact of years on road and mileage on car's price by individually regressing them agaist price of the car\n",
    "\n",
    "1. Running the algo for Contemporary cars (<15 yrs on road)"
   ]
  },
  {
   "cell_type": "code",
   "execution_count": 28,
   "metadata": {
    "collapsed": true
   },
   "outputs": [],
   "source": [
    "CleanedData=CleanedData[CleanedData[\"Price\"] >= 1000]\n",
    "CleanedData=CleanedData[CleanedData[\"Mileage\"] >= 100]\n",
    "Contemporary=CleanedData[CleanedData[\"CarType\"] == \"Contemporary\"]"
   ]
  },
  {
   "cell_type": "code",
   "execution_count": 29,
   "metadata": {
    "collapsed": false
   },
   "outputs": [],
   "source": [
    "test=Contemporary.groupby([\"Make\"], as_index=False)[\"CarType\"].count().sort_values(by=\"CarType\",ascending=False)"
   ]
  },
  {
   "cell_type": "code",
   "execution_count": 30,
   "metadata": {
    "collapsed": false
   },
   "outputs": [
    {
     "data": {
      "text/html": [
       "<div>\n",
       "<table border=\"1\" class=\"dataframe\">\n",
       "  <thead>\n",
       "    <tr style=\"text-align: right;\">\n",
       "      <th></th>\n",
       "      <th>Make</th>\n",
       "      <th>CarType</th>\n",
       "    </tr>\n",
       "  </thead>\n",
       "  <tbody>\n",
       "    <tr>\n",
       "      <th>19</th>\n",
       "      <td>INFINITI</td>\n",
       "      <td>9869</td>\n",
       "    </tr>\n",
       "    <tr>\n",
       "      <th>18</th>\n",
       "      <td>HYUNDAI</td>\n",
       "      <td>9717</td>\n",
       "    </tr>\n",
       "    <tr>\n",
       "      <th>51</th>\n",
       "      <td>TESLA</td>\n",
       "      <td>9714</td>\n",
       "    </tr>\n",
       "    <tr>\n",
       "      <th>38</th>\n",
       "      <td>NISSAN</td>\n",
       "      <td>9518</td>\n",
       "    </tr>\n",
       "    <tr>\n",
       "      <th>0</th>\n",
       "      <td>ACURA</td>\n",
       "      <td>9027</td>\n",
       "    </tr>\n",
       "  </tbody>\n",
       "</table>\n",
       "</div>"
      ],
      "text/plain": [
       "        Make  CarType\n",
       "19  INFINITI     9869\n",
       "18   HYUNDAI     9717\n",
       "51     TESLA     9714\n",
       "38    NISSAN     9518\n",
       "0      ACURA     9027"
      ]
     },
     "execution_count": 30,
     "metadata": {},
     "output_type": "execute_result"
    }
   ],
   "source": [
    "test.head()"
   ]
  },
  {
   "cell_type": "code",
   "execution_count": 31,
   "metadata": {
    "collapsed": false
   },
   "outputs": [],
   "source": [
    "test=test[test[\"CarType\"] >= 100]\n",
    "MakeList = test[\"Make\"].tolist()"
   ]
  },
  {
   "cell_type": "code",
   "execution_count": 32,
   "metadata": {
    "collapsed": false
   },
   "outputs": [
    {
     "name": "stderr",
     "output_type": "stream",
     "text": [
      "C:\\Users\\sudhanshu\\Anaconda3\\lib\\site-packages\\pandas\\core\\generic.py:3443: SettingWithCopyWarning: \n",
      "A value is trying to be set on a copy of a slice from a DataFrame\n",
      "\n",
      "See the caveats in the documentation: http://pandas.pydata.org/pandas-docs/stable/indexing.html#indexing-view-versus-copy\n",
      "  self._update_inplace(new_data)\n"
     ]
    }
   ],
   "source": [
    "Contemporary[\"OnRoadYrs\"].replace(\n",
    "    to_replace=0,\n",
    "    value=0.5,\n",
    "    inplace=True\n",
    ")\n",
    "\n",
    "Contemporary=Contemporary.loc[Contemporary[\"Make\"].isin(MakeList)]\n",
    "Contemporary[\"LogPrice\"] = np.log(Contemporary[\"Price\"])\n",
    "Contemporary[\"LogOnRoadYrs\"] = np.log(Contemporary[\"OnRoadYrs\"])\n",
    "Contemporary[\"LogMileage\"] = np.log(Contemporary[\"Mileage\"])"
   ]
  },
  {
   "cell_type": "code",
   "execution_count": 33,
   "metadata": {
    "collapsed": false
   },
   "outputs": [
    {
     "data": {
      "text/html": [
       "<div>\n",
       "<table border=\"1\" class=\"dataframe\">\n",
       "  <thead>\n",
       "    <tr style=\"text-align: right;\">\n",
       "      <th></th>\n",
       "      <th>Mileage</th>\n",
       "      <th>Price</th>\n",
       "      <th>Year</th>\n",
       "      <th>OnRoadYrs</th>\n",
       "      <th>LogPrice</th>\n",
       "      <th>LogOnRoadYrs</th>\n",
       "      <th>LogMileage</th>\n",
       "    </tr>\n",
       "  </thead>\n",
       "  <tbody>\n",
       "    <tr>\n",
       "      <th>count</th>\n",
       "      <td>167647.000000</td>\n",
       "      <td>1.676470e+05</td>\n",
       "      <td>167647.000000</td>\n",
       "      <td>167647.000000</td>\n",
       "      <td>167647.000000</td>\n",
       "      <td>167647.000000</td>\n",
       "      <td>167647.000000</td>\n",
       "    </tr>\n",
       "    <tr>\n",
       "      <th>mean</th>\n",
       "      <td>49431.522049</td>\n",
       "      <td>3.982808e+04</td>\n",
       "      <td>2012.707236</td>\n",
       "      <td>4.329899</td>\n",
       "      <td>10.126644</td>\n",
       "      <td>1.077426</td>\n",
       "      <td>10.399977</td>\n",
       "    </tr>\n",
       "    <tr>\n",
       "      <th>std</th>\n",
       "      <td>42584.414062</td>\n",
       "      <td>5.159479e+04</td>\n",
       "      <td>3.830149</td>\n",
       "      <td>3.674390</td>\n",
       "      <td>0.918784</td>\n",
       "      <td>0.927207</td>\n",
       "      <td>1.042867</td>\n",
       "    </tr>\n",
       "    <tr>\n",
       "      <th>min</th>\n",
       "      <td>100.000000</td>\n",
       "      <td>1.000000e+03</td>\n",
       "      <td>2002.000000</td>\n",
       "      <td>0.500000</td>\n",
       "      <td>6.907755</td>\n",
       "      <td>-0.693147</td>\n",
       "      <td>4.605170</td>\n",
       "    </tr>\n",
       "    <tr>\n",
       "      <th>25%</th>\n",
       "      <td>21036.000000</td>\n",
       "      <td>1.399500e+04</td>\n",
       "      <td>2011.000000</td>\n",
       "      <td>2.000000</td>\n",
       "      <td>9.546455</td>\n",
       "      <td>0.693147</td>\n",
       "      <td>9.953991</td>\n",
       "    </tr>\n",
       "    <tr>\n",
       "      <th>50%</th>\n",
       "      <td>38357.000000</td>\n",
       "      <td>2.428000e+04</td>\n",
       "      <td>2014.000000</td>\n",
       "      <td>3.000000</td>\n",
       "      <td>10.097408</td>\n",
       "      <td>1.098612</td>\n",
       "      <td>10.554692</td>\n",
       "    </tr>\n",
       "    <tr>\n",
       "      <th>75%</th>\n",
       "      <td>63823.000000</td>\n",
       "      <td>4.148500e+04</td>\n",
       "      <td>2015.000000</td>\n",
       "      <td>6.000000</td>\n",
       "      <td>10.633087</td>\n",
       "      <td>1.791759</td>\n",
       "      <td>11.063869</td>\n",
       "    </tr>\n",
       "    <tr>\n",
       "      <th>max</th>\n",
       "      <td>486003.000000</td>\n",
       "      <td>1.995900e+06</td>\n",
       "      <td>2017.000000</td>\n",
       "      <td>15.000000</td>\n",
       "      <td>14.506606</td>\n",
       "      <td>2.708050</td>\n",
       "      <td>13.093970</td>\n",
       "    </tr>\n",
       "  </tbody>\n",
       "</table>\n",
       "</div>"
      ],
      "text/plain": [
       "             Mileage         Price           Year      OnRoadYrs  \\\n",
       "count  167647.000000  1.676470e+05  167647.000000  167647.000000   \n",
       "mean    49431.522049  3.982808e+04    2012.707236       4.329899   \n",
       "std     42584.414062  5.159479e+04       3.830149       3.674390   \n",
       "min       100.000000  1.000000e+03    2002.000000       0.500000   \n",
       "25%     21036.000000  1.399500e+04    2011.000000       2.000000   \n",
       "50%     38357.000000  2.428000e+04    2014.000000       3.000000   \n",
       "75%     63823.000000  4.148500e+04    2015.000000       6.000000   \n",
       "max    486003.000000  1.995900e+06    2017.000000      15.000000   \n",
       "\n",
       "            LogPrice   LogOnRoadYrs     LogMileage  \n",
       "count  167647.000000  167647.000000  167647.000000  \n",
       "mean       10.126644       1.077426      10.399977  \n",
       "std         0.918784       0.927207       1.042867  \n",
       "min         6.907755      -0.693147       4.605170  \n",
       "25%         9.546455       0.693147       9.953991  \n",
       "50%        10.097408       1.098612      10.554692  \n",
       "75%        10.633087       1.791759      11.063869  \n",
       "max        14.506606       2.708050      13.093970  "
      ]
     },
     "execution_count": 33,
     "metadata": {},
     "output_type": "execute_result"
    }
   ],
   "source": [
    "Contemporary.describe()"
   ]
  },
  {
   "cell_type": "code",
   "execution_count": 34,
   "metadata": {
    "collapsed": false
   },
   "outputs": [
    {
     "name": "stderr",
     "output_type": "stream",
     "text": [
      "C:\\Users\\sudhanshu\\Anaconda3\\lib\\site-packages\\statsmodels\\nonparametric\\kdetools.py:20: VisibleDeprecationWarning: using a non-integer number instead of an integer will result in an error in the future\n",
      "  y = X[:m/2+1] + np.r_[0,X[m/2+1:],0]*1j\n"
     ]
    },
    {
     "data": {
      "image/png": "[encoded data removed]",
      "text/plain": [
       "<matplotlib.figure.Figure at 0xe54ddb470>"
      ]
     },
     "metadata": {},
     "output_type": "display_data"
    }
   ],
   "source": [
    "ax = sns.distplot(Contemporary[\"Price\"])\n",
    "ax.set(xlabel='Price')\n",
    "ax.set_title(\"Distribution of Car Price\")\n",
    "plt.show()"
   ]
  },
  {
   "cell_type": "code",
   "execution_count": 35,
   "metadata": {
    "collapsed": false
   },
   "outputs": [
    {
     "name": "stderr",
     "output_type": "stream",
     "text": [
      "C:\\Users\\sudhanshu\\Anaconda3\\lib\\site-packages\\statsmodels\\nonparametric\\kdetools.py:20: VisibleDeprecationWarning: using a non-integer number instead of an integer will result in an error in the future\n",
      "  y = X[:m/2+1] + np.r_[0,X[m/2+1:],0]*1j\n"
     ]
    },
    {
     "data": {
      "image/png": "[encoded data removed]",
      "text/plain": [
       "<matplotlib.figure.Figure at 0xe54a6dbe0>"
      ]
     },
     "metadata": {},
     "output_type": "display_data"
    }
   ],
   "source": [
    "ax = sns.distplot(Contemporary[\"LogPrice\"])\n",
    "ax.set(xlabel='Log of Price')\n",
    "ax.set_title(\"Distribution of Log of Car Price\")\n",
    "plt.show()"
   ]
  },
  {
   "cell_type": "code",
   "execution_count": 36,
   "metadata": {
    "collapsed": false
   },
   "outputs": [
    {
     "name": "stderr",
     "output_type": "stream",
     "text": [
      "C:\\Users\\sudhanshu\\Anaconda3\\lib\\site-packages\\statsmodels\\nonparametric\\kdetools.py:20: VisibleDeprecationWarning: using a non-integer number instead of an integer will result in an error in the future\n",
      "  y = X[:m/2+1] + np.r_[0,X[m/2+1:],0]*1j\n"
     ]
    },
    {
     "data": {
      "image/png": "[encoded data removed]",
      "text/plain": [
       "<matplotlib.figure.Figure at 0xe5661b4e0>"
      ]
     },
     "metadata": {},
     "output_type": "display_data"
    }
   ],
   "source": [
    "ax = sns.distplot(Contemporary[\"Mileage\"])\n",
    "ax.set(xlabel='Mileage')\n",
    "ax.set_title(\"Distribution of Mileage variable\")\n",
    "plt.show()"
   ]
  },
  {
   "cell_type": "code",
   "execution_count": 37,
   "metadata": {
    "collapsed": false
   },
   "outputs": [
    {
     "name": "stderr",
     "output_type": "stream",
     "text": [
      "C:\\Users\\sudhanshu\\Anaconda3\\lib\\site-packages\\statsmodels\\nonparametric\\kdetools.py:20: VisibleDeprecationWarning: using a non-integer number instead of an integer will result in an error in the future\n",
      "  y = X[:m/2+1] + np.r_[0,X[m/2+1:],0]*1j\n"
     ]
    },
    {
     "data": {
      "image/png": "[encoded data removed]",
      "text/plain": [
       "<matplotlib.figure.Figure at 0xe5677aa20>"
      ]
     },
     "metadata": {},
     "output_type": "display_data"
    }
   ],
   "source": [
    "ax = sns.distplot(Contemporary[\"LogMileage\"])\n",
    "ax.set(xlabel='Mileage')\n",
    "ax.set_title(\"Distribution of Log of Mileage variable\")\n",
    "plt.show()"
   ]
  },
  {
   "cell_type": "code",
   "execution_count": 38,
   "metadata": {
    "collapsed": false
   },
   "outputs": [
    {
     "data": {
      "text/plain": [
       "LinearRegression(copy_X=True, fit_intercept=True, n_jobs=1, normalize=False)"
      ]
     },
     "execution_count": 38,
     "metadata": {},
     "output_type": "execute_result"
    }
   ],
   "source": [
    "#Regression for Price Vs Mileage\n",
    "lmMileage=LinearRegression()\n",
    "#Contemporary=CleanedData[CleanedData[\"CarType\"] == \"Contemporary\"]\n",
    "lmMileage.fit(Contemporary.iloc[:, 10].to_frame(), Contemporary.iloc[:, 12].to_frame())"
   ]
  },
  {
   "cell_type": "code",
   "execution_count": 39,
   "metadata": {
    "collapsed": false
   },
   "outputs": [
    {
     "data": {
      "text/plain": [
       "'-0.57509752'"
      ]
     },
     "execution_count": 39,
     "metadata": {},
     "output_type": "execute_result"
    }
   ],
   "source": [
    "MileageCoff=str(lmMileage.coef_).replace(\"[\",\"\").replace(\"]\",\"\").replace(\" \",\"\")\n",
    "MileageCoff"
   ]
  },
  {
   "cell_type": "code",
   "execution_count": 40,
   "metadata": {
    "collapsed": false
   },
   "outputs": [
    {
     "data": {
      "text/plain": [
       "LinearRegression(copy_X=True, fit_intercept=True, n_jobs=1, normalize=False)"
      ]
     },
     "execution_count": 40,
     "metadata": {},
     "output_type": "execute_result"
    }
   ],
   "source": [
    "#Regression for Price Vs Number of Years on Road\n",
    "lmYears=LinearRegression()\n",
    "lmYears.fit(Contemporary.iloc[:, 0].to_frame(), Contemporary.iloc[:, 6].to_frame())"
   ]
  },
  {
   "cell_type": "code",
   "execution_count": 41,
   "metadata": {
    "collapsed": false
   },
   "outputs": [
    {
     "data": {
      "text/plain": [
       "'4.45895965e-05'"
      ]
     },
     "execution_count": 41,
     "metadata": {},
     "output_type": "execute_result"
    }
   ],
   "source": [
    "YrsOnRoadCoff=str(lmYears.coef_).replace(\"[\",\"\").replace(\"]\",\"\").replace(\" \",\"\")\n",
    "YrsOnRoadCoff"
   ]
  },
  {
   "cell_type": "code",
   "execution_count": 42,
   "metadata": {
    "collapsed": false
   },
   "outputs": [
    {
     "name": "stdout",
     "output_type": "stream",
     "text": [
      "INFINITI\n",
      "Mileage Coff: -0.86413838\n",
      "Vintage Coff: 8.03258346e-05\n",
      "HYUNDAI\n",
      "Mileage Coff: -0.74618105\n",
      "Vintage Coff: 3.45614104e-05\n",
      "TESLA\n",
      "Mileage Coff: -0.01745687\n",
      "Vintage Coff: 3.86066558e-05\n",
      "NISSAN\n",
      "Mileage Coff: -0.29937058\n",
      "Vintage Coff: 6.11298775e-05\n",
      "ACURA\n",
      "Mileage Coff: -0.85199101\n",
      "Vintage Coff: 6.60561102e-05\n",
      "MERCEDES-BENZ\n",
      "Mileage Coff: -0.40475189\n",
      "Vintage Coff: 7.43854783e-05\n",
      "LINCOLN\n",
      "Mileage Coff: -0.52364779\n",
      "Vintage Coff: 3.72168690e-05\n",
      "HUMMER\n",
      "Mileage Coff: -0.58454204\n",
      "Vintage Coff: 1.56236863e-05\n",
      "RAM\n",
      "Mileage Coff: -0.11041793\n",
      "Vintage Coff: 1.44885205e-05\n",
      "ASTON\n",
      "Mileage Coff: -1.76644541\n",
      "Vintage Coff: 0.00014124\n",
      "BENTLEY\n",
      "Mileage Coff: -1.21249831\n",
      "Vintage Coff: 0.00013873\n",
      "KIA\n",
      "Mileage Coff: -0.83500673\n",
      "Vintage Coff: 4.60839021e-05\n",
      "FORD\n",
      "Mileage Coff: -0.32207857\n",
      "Vintage Coff: 4.71383958e-05\n",
      "LOTUS\n",
      "Mileage Coff: 0.0039032\n",
      "Vintage Coff: 8.12752980e-05\n",
      "AUDI\n",
      "Mileage Coff: -0.63305801\n",
      "Vintage Coff: 6.83155701e-05\n",
      "CHEVROLET\n",
      "Mileage Coff: -0.32293752\n",
      "Vintage Coff: 4.57865306e-05\n",
      "DODGE\n",
      "Mileage Coff: -0.30644875\n",
      "Vintage Coff: 3.82001983e-05\n",
      "MERCURY\n",
      "Mileage Coff: -0.43409337\n",
      "Vintage Coff: 3.13612780e-05\n",
      "GMC\n",
      "Mileage Coff: -0.3884397\n",
      "Vintage Coff: 3.91650795e-05\n",
      "BMW\n",
      "Mileage Coff: -0.60150882\n",
      "Vintage Coff: 7.34430613e-05\n",
      "ROLLS-ROYCE\n",
      "Mileage Coff: -1.60224783\n",
      "Vintage Coff: 0.000121\n",
      "HONDA\n",
      "Mileage Coff: -0.93563979\n",
      "Vintage Coff: 5.87355869e-05\n",
      "SUBARU\n",
      "Mileage Coff: -0.56546231\n",
      "Vintage Coff: 6.62061274e-05\n",
      "TOYOTA\n",
      "Mileage Coff: -0.35209083\n",
      "Vintage Coff: 6.01641192e-05\n",
      "JEEP\n",
      "Mileage Coff: -0.34905619\n",
      "Vintage Coff: 7.15253454e-05\n",
      "LEXUS\n",
      "Mileage Coff: -0.6380939\n",
      "Vintage Coff: 7.35657363e-05\n",
      "PORSCHE\n",
      "Mileage Coff: -0.43628825\n",
      "Vintage Coff: 8.86561909e-05\n",
      "CADILLAC\n",
      "Mileage Coff: -0.31803996\n",
      "Vintage Coff: 6.57529889e-05\n",
      "VOLKSWAGEN\n",
      "Mileage Coff: -0.57603012\n",
      "Vintage Coff: 7.12344768e-05\n",
      "LAND\n",
      "Mileage Coff: -0.34007287\n",
      "Vintage Coff: 7.63474048e-05\n",
      "CHRYSLER\n",
      "Mileage Coff: -0.42888146\n",
      "Vintage Coff: 6.17383105e-05\n",
      "FERRARI\n",
      "Mileage Coff: -0.31399545\n",
      "Vintage Coff: 0.00026203\n",
      "JAGUAR\n",
      "Mileage Coff: -0.44535605\n",
      "Vintage Coff: 9.33261324e-05\n",
      "BUICK\n",
      "Mileage Coff: -0.42831288\n",
      "Vintage Coff: 5.98542293e-05\n",
      "MAZDA\n",
      "Mileage Coff: -0.42035205\n",
      "Vintage Coff: 7.15003317e-05\n",
      "MASERATI\n",
      "Mileage Coff: -0.42527288\n",
      "Vintage Coff: 9.81362828e-05\n",
      "VOLVO\n",
      "Mileage Coff: -0.2353829\n",
      "Vintage Coff: 1.84710124e-05\n",
      "MINI\n",
      "Mileage Coff: -0.67386942\n",
      "Vintage Coff: 6.79911474e-05\n",
      "LAMBORGHINI\n",
      "Mileage Coff: -0.43065302\n",
      "Vintage Coff: 0.00030215\n",
      "MITSUBISHI\n",
      "Mileage Coff: -0.37060504\n",
      "Vintage Coff: 7.38595534e-05\n",
      "PONTIAC\n",
      "Mileage Coff: -0.34362873\n",
      "Vintage Coff: -1.56488272e-06\n"
     ]
    }
   ],
   "source": [
    "MileageCoffList=[]\n",
    "VintageCoffList=[]\n",
    "BrandsList=[]\n",
    "\n",
    "for CarBrands in MakeList:\n",
    "    print(CarBrands)\n",
    "    BrandsList.append(CarBrands)\n",
    "    \n",
    "    #Regression for Price Vs Mileage\n",
    "    lmMileage=LinearRegression()\n",
    "    CarBrandSubSet=Contemporary[Contemporary[\"Make\"] == CarBrands]\n",
    "    lmMileage.fit(CarBrandSubSet.iloc[:, 10].to_frame(), CarBrandSubSet.iloc[:, 12].to_frame())\n",
    "    MileageCoff=str(lmMileage.coef_).replace(\"[\",\"\").replace(\"]\",\"\").replace(\" \",\"\")\n",
    "    print(\"Mileage Coff:\",MileageCoff)\n",
    "    MileageCoffList.append(MileageCoff)\n",
    "    \n",
    "    #Regression for Price Vs Number of Years on Road\n",
    "    lmYears=LinearRegression()\n",
    "    lmYears.fit(CarBrandSubSet.iloc[:, 0].to_frame(), CarBrandSubSet.iloc[:, 6].to_frame())\n",
    "    YrsOnRoadCoff=str(lmYears.coef_).replace(\"[\",\"\").replace(\"]\",\"\").replace(\" \",\"\")\n",
    "    print(\"Vintage Coff:\",YrsOnRoadCoff)\n",
    "    VintageCoffList.append(YrsOnRoadCoff)"
   ]
  },
  {
   "cell_type": "code",
   "execution_count": 43,
   "metadata": {
    "collapsed": true
   },
   "outputs": [],
   "source": [
    "Cofficients = pd.DataFrame(\n",
    "    {\"CarBrand\": BrandsList,\n",
    "     \"MileageCoff\": MileageCoffList,\n",
    "     \"VintageCoff\": VintageCoffList\n",
    "    })"
   ]
  },
  {
   "cell_type": "code",
   "execution_count": 44,
   "metadata": {
    "collapsed": true
   },
   "outputs": [],
   "source": [
    "Cofficients.to_csv('C:\\\\Users\\\\sudhanshu\\\\Desktop\\\\Springboard\\\\Used Cars Dataset\\\\Cofficients.csv', index=False, header=True)"
   ]
  },
  {
   "cell_type": "markdown",
   "metadata": {},
   "source": [
    "Calculating brand level depreciation\n",
    "\n",
    "Sor the same sub set of brands calculating average depreciation over  15 yrs"
   ]
  },
  {
   "cell_type": "code",
   "execution_count": 45,
   "metadata": {
    "collapsed": false
   },
   "outputs": [
    {
     "data": {
      "text/html": [
       "<div>\n",
       "<table border=\"1\" class=\"dataframe\">\n",
       "  <thead>\n",
       "    <tr style=\"text-align: right;\">\n",
       "      <th>CatYear</th>\n",
       "      <th>LessThan2</th>\n",
       "      <th>2To5</th>\n",
       "      <th>5To10</th>\n",
       "      <th>10To15</th>\n",
       "    </tr>\n",
       "    <tr>\n",
       "      <th>Make</th>\n",
       "      <th></th>\n",
       "      <th></th>\n",
       "      <th></th>\n",
       "      <th></th>\n",
       "    </tr>\n",
       "  </thead>\n",
       "  <tbody>\n",
       "    <tr>\n",
       "      <th>ACURA</th>\n",
       "      <td>26823.953286</td>\n",
       "      <td>15679.990654</td>\n",
       "      <td>10643.018012</td>\n",
       "      <td>8527.382114</td>\n",
       "    </tr>\n",
       "    <tr>\n",
       "      <th>ASTON</th>\n",
       "      <td>175418.086932</td>\n",
       "      <td>117639.442915</td>\n",
       "      <td>60158.495984</td>\n",
       "      <td>61890.185612</td>\n",
       "    </tr>\n",
       "    <tr>\n",
       "      <th>AUDI</th>\n",
       "      <td>23708.266561</td>\n",
       "      <td>27668.861111</td>\n",
       "      <td>27962.455128</td>\n",
       "      <td>17614.250000</td>\n",
       "    </tr>\n",
       "    <tr>\n",
       "      <th>BENTLEY</th>\n",
       "      <td>206620.887974</td>\n",
       "      <td>125152.506422</td>\n",
       "      <td>93113.406533</td>\n",
       "      <td>48492.162122</td>\n",
       "    </tr>\n",
       "    <tr>\n",
       "      <th>BMW</th>\n",
       "      <td>39595.454128</td>\n",
       "      <td>28560.879781</td>\n",
       "      <td>18757.766917</td>\n",
       "      <td>21846.068027</td>\n",
       "    </tr>\n",
       "  </tbody>\n",
       "</table>\n",
       "</div>"
      ],
      "text/plain": [
       "CatYear      LessThan2           2To5         5To10        10To15\n",
       "Make                                                             \n",
       "ACURA     26823.953286   15679.990654  10643.018012   8527.382114\n",
       "ASTON    175418.086932  117639.442915  60158.495984  61890.185612\n",
       "AUDI      23708.266561   27668.861111  27962.455128  17614.250000\n",
       "BENTLEY  206620.887974  125152.506422  93113.406533  48492.162122\n",
       "BMW       39595.454128   28560.879781  18757.766917  21846.068027"
      ]
     },
     "execution_count": 45,
     "metadata": {},
     "output_type": "execute_result"
    }
   ],
   "source": [
    "BrandDep=CleanedData[CleanedData[\"CarType\"] == \"Contemporary\"]\n",
    "BrandDep=BrandDep.loc[BrandDep[\"Make\"].isin(MakeList)]\n",
    "BrandDepreciationDF=pd.pivot_table(BrandDep, values=\"Price\", index=\"Make\",columns=\"CatYear\", aggfunc=np.mean)\n",
    "BrandDepreciationDF=BrandDepreciationDF.iloc[:,0:4]\n",
    "BrandDepreciationDF = BrandDepreciationDF.dropna()\n",
    "BrandDepreciationDF.head()"
   ]
  },
  {
   "cell_type": "code",
   "execution_count": 46,
   "metadata": {
    "collapsed": true
   },
   "outputs": [],
   "source": [
    "BrandDepreciationDF[\"Dep1\"]=(1 - BrandDepreciationDF[\"2To5\"]/BrandDepreciationDF[\"LessThan2\"])*100\n",
    "BrandDepreciationDF[\"Dep2\"]=(1 - BrandDepreciationDF[\"5To10\"]/BrandDepreciationDF[\"2To5\"])*100\n",
    "BrandDepreciationDF[\"Dep3\"]=(1 - BrandDepreciationDF[\"10To15\"]/BrandDepreciationDF[\"5To10\"])*100\n",
    "BrandDepreciationDF[\"AvgDep\"]=(BrandDepreciationDF[\"Dep1\"]+BrandDepreciationDF[\"Dep2\"]+BrandDepreciationDF[\"Dep3\"])/3\n",
    "BrandDepreciationDF[\"Index\"]=(50-BrandDepreciationDF[\"AvgDep\"])"
   ]
  },
  {
   "cell_type": "code",
   "execution_count": 47,
   "metadata": {
    "collapsed": false
   },
   "outputs": [],
   "source": [
    "BrandDepreciationDF.to_csv('C:\\\\Users\\\\sudhanshu\\\\Desktop\\\\Springboard\\\\Used Cars Dataset\\\\Depreciation.csv', index=True, header=True)"
   ]
  },
  {
   "cell_type": "markdown",
   "metadata": {},
   "source": [
    "Bucketing car brands by average starting price of cars (less than or equal to 1 year on road)"
   ]
  },
  {
   "cell_type": "code",
   "execution_count": 48,
   "metadata": {
    "collapsed": false
   },
   "outputs": [],
   "source": [
    "#Contemporary.groupby([\"Make\"], as_index=False)[\"CarType\"].count().sort_values(by=\"CarType\",ascending=False)\n",
    "BrandCategory=BrandDep[BrandDep[\"OnRoadYrs\"] <= 1]\n",
    "#BrandCategory.head()\n",
    "BrandCategory=BrandCategory.groupby([\"Make\"], as_index=False)[\"Price\"].mean().sort_values(by=\"Price\",ascending=False)"
   ]
  },
  {
   "cell_type": "code",
   "execution_count": 49,
   "metadata": {
    "collapsed": false
   },
   "outputs": [
    {
     "name": "stderr",
     "output_type": "stream",
     "text": [
      "C:\\Users\\sudhanshu\\Anaconda3\\lib\\site-packages\\statsmodels\\nonparametric\\kdetools.py:20: VisibleDeprecationWarning: using a non-integer number instead of an integer will result in an error in the future\n",
      "  y = X[:m/2+1] + np.r_[0,X[m/2+1:],0]*1j\n"
     ]
    },
    {
     "data": {
      "image/png": "[encoded data removed]",
      "text/plain": [
       "<matplotlib.figure.Figure at 0xe5683c898>"
      ]
     },
     "metadata": {},
     "output_type": "display_data"
    }
   ],
   "source": [
    "ax = sns.distplot(BrandCategory[\"Price\"])\n",
    "ax.set(xlabel='Price')\n",
    "ax.set_title(\"Distribution of Average Starting Price\")\n",
    "plt.show()"
   ]
  },
  {
   "cell_type": "code",
   "execution_count": 50,
   "metadata": {
    "collapsed": false
   },
   "outputs": [
    {
     "name": "stderr",
     "output_type": "stream",
     "text": [
      "C:\\Users\\sudhanshu\\Anaconda3\\lib\\site-packages\\ipykernel\\__main__.py:7: SettingWithCopyWarning: \n",
      "A value is trying to be set on a copy of a slice from a DataFrame.\n",
      "Try using .loc[row_indexer,col_indexer] = value instead\n",
      "\n",
      "See the caveats in the documentation: http://pandas.pydata.org/pandas-docs/stable/indexing.html#indexing-view-versus-copy\n"
     ]
    }
   ],
   "source": [
    "Validation=BrandDep[BrandDep[\"OnRoadYrs\"] <= 1]\n",
    "Validation[\"LogPrice\"]=np.log(Validation[\"Price\"])"
   ]
  },
  {
   "cell_type": "code",
   "execution_count": 51,
   "metadata": {
    "collapsed": false
   },
   "outputs": [
    {
     "name": "stderr",
     "output_type": "stream",
     "text": [
      "C:\\Users\\sudhanshu\\Anaconda3\\lib\\site-packages\\statsmodels\\nonparametric\\kdetools.py:20: VisibleDeprecationWarning: using a non-integer number instead of an integer will result in an error in the future\n",
      "  y = X[:m/2+1] + np.r_[0,X[m/2+1:],0]*1j\n"
     ]
    },
    {
     "data": {
      "image/png": "[encoded data removed]",
      "text/plain": [
       "<matplotlib.figure.Figure at 0xe567c43c8>"
      ]
     },
     "metadata": {},
     "output_type": "display_data"
    }
   ],
   "source": [
    "ax = sns.distplot(Validation[\"LogPrice\"])\n",
    "ax.set(xlabel='Log Price')\n",
    "ax.set_title(\"Distribution of Average Log Starting Price\")\n",
    "plt.show()"
   ]
  },
  {
   "cell_type": "code",
   "execution_count": 52,
   "metadata": {
    "collapsed": false
   },
   "outputs": [],
   "source": [
    "Check=Validation.groupby([\"Make\"], as_index=False)[\"LogPrice\",\"Price\"].mean().sort_values(by=\"LogPrice\",ascending=False)\n",
    "#Check.head(len(Check))"
   ]
  },
  {
   "cell_type": "code",
   "execution_count": 53,
   "metadata": {
    "collapsed": true
   },
   "outputs": [],
   "source": [
    "def binning(col, cut_points, labels=None):\n",
    "  #Define min and max values:\n",
    "  minval = col.min()\n",
    "  maxval = col.max()\n",
    "\n",
    "  #create list by adding min and max to cut_points\n",
    "  break_points = [minval] + cut_points + [maxval]\n",
    "\n",
    "  #if no labels provided, use default labels 0 ... (n-1)\n",
    "  if not labels:\n",
    "    labels = range(len(cut_points)+1)\n",
    "\n",
    "  #Binning using cut function of pandas\n",
    "  colBin = pd.cut(col,bins=break_points,labels=labels,include_lowest=True)\n",
    "  return colBin\n",
    "\n",
    "#Binning On Road Yrs\n",
    "cut_points = [Check.LogPrice.quantile(0.25),Check.LogPrice.quantile(0.50),Check.LogPrice.quantile(0.75)]\n",
    "labels = [\"Bottom25\",\"25To50\",\"50To75\",\"Top25\"]\n",
    "Check[\"Category\"] = binning(Check[\"LogPrice\"], cut_points, labels)\n"
   ]
  },
  {
   "cell_type": "code",
   "execution_count": 54,
   "metadata": {
    "collapsed": false
   },
   "outputs": [],
   "source": [
    "Check.to_csv('C:\\\\Users\\\\sudhanshu\\\\Desktop\\\\Springboard\\\\Used Cars Dataset\\\\Category.csv', index=False, header=True)\n",
    "#Check.head(len(Check))"
   ]
  },
  {
   "cell_type": "markdown",
   "metadata": {},
   "source": [
    "Link to car brand comparison dashboard:\n",
    "https://public.tableau.com/profile/sudhanshu.chib8525#!/vizhome/CarBrandsCrosstab_Revised/Crosstab1?publish=yes"
   ]
  }
 ],
 "metadata": {
  "anaconda-cloud": {},
  "kernelspec": {
   "display_name": "Python [default]",
   "language": "python",
   "name": "python3"
  },
  "language_info": {
   "codemirror_mode": {
    "name": "ipython",
    "version": 3
   },
   "file_extension": ".py",
   "mimetype": "text/x-python",
   "name": "python",
   "nbconvert_exporter": "python",
   "pygments_lexer": "ipython3",
   "version": "3.5.2"
  }
 },
 "nbformat": 4,
 "nbformat_minor": 1
}
